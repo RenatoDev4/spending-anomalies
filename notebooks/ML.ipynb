{
 "cells": [
  {
   "attachments": {},
   "cell_type": "markdown",
   "metadata": {},
   "source": [
    "# Importando bibliotecas importantes"
   ]
  },
  {
   "cell_type": "code",
   "execution_count": null,
   "metadata": {},
   "outputs": [],
   "source": [
    "import pandas as pd\n",
    "import matplotlib.pyplot as plt\n",
    "import seaborn as sns\n",
    "import numpy as np\n",
    "import torch\n",
    "import torch.nn as nn\n",
    "import torch.optim as optim\n",
    "from torch.utils.data import DataLoader, TensorDataset\n",
    "from sklearn.model_selection import train_test_split\n",
    "from sklearn.preprocessing import MinMaxScaler\n",
    "import locale"
   ]
  },
  {
   "attachments": {},
   "cell_type": "markdown",
   "metadata": {},
   "source": [
    "# Carregando o dataset"
   ]
  },
  {
   "cell_type": "code",
   "execution_count": null,
   "metadata": {},
   "outputs": [],
   "source": [
    "df = pd.read_csv('/home/renato/Projetos_Python/Deteccao_Anomalias/data/processed/cota-parlamentar.csv')"
   ]
  },
  {
   "attachments": {},
   "cell_type": "markdown",
   "metadata": {},
   "source": [
    "# Pré processando o dataset e criando filtros"
   ]
  },
  {
   "cell_type": "code",
   "execution_count": null,
   "metadata": {},
   "outputs": [],
   "source": [
    "frases_unicas = df['txtdescricao'].unique()\n",
    "\n",
    "for frase in frases_unicas:\n",
    "    print(frase)"
   ]
  },
  {
   "cell_type": "code",
   "execution_count": null,
   "metadata": {},
   "outputs": [],
   "source": [
    "filtro_divulgacao = df['txtdescricao'] == 'DIVULGAÇÃO DA ATIVIDADE PARLAMENTAR.'\n",
    "filtro_alimentacao = df['txtdescricao'] == 'FORNECIMENTO DE ALIMENTAÇÃO DO PARLAMENTAR'\n",
    "filtro_manutencao_escritorio = df['txtdescricao'] == 'MANUTENÇÃO DE ESCRITÓRIO DE APOIO À ATIVIDADE PARLAMENTAR'\n",
    "filtro_passagens_aereas = df['txtdescricao'] == 'PASSAGENS AÉREAS'\n",
    "# filtro_telefonia = df['txtdescricao'] == 'TELEFONIA'\n",
    "# filtro_locacao_veiculos = df['txtdescricao'] == 'LOCAÇÃO OU FRETAMENTO DE VEÍCULOS AUTOMOTORES'\n",
    "# filtro_servicos_postais = df['txtdescricao'] == 'SERVIÇOS POSTAIS'\n",
    "# filtro_consultoria = df['txtdescricao'] == 'CONSULTORIAS, PESQUISAS E TRABALHOS TÉCNICOS.'\n",
    "# filtro_servico_seguranca = df['txtdescricao'] == 'SERVIÇO DE SEGURANÇA PRESTADO POR EMPRESA ESPECIALIZADA.'\n",
    "# filtro_emissao_bilhete_aereo = df['txtdescricao'] == 'Emissão Bilhete Aéreo'\n",
    "# filtro_hospedagem = df['txtdescricao'] == 'HOSPEDAGEM ,EXCETO DO PARLAMENTAR NO DISTRITO FEDERAL.'\n",
    "# filtro_taxi = df['txtdescricao'] == 'SERVIÇO DE TÁXI, PEDÁGIO E ESTACIONAMENTO'\n",
    "# filtro_curso_palestra = df['txtdescricao'] == 'PARTICIPAÇÃO EM CURSO, PALESTRA OU EVENTO SIMILAR'\n",
    "# filtro_curso_locacao_aeronave = df['txtdescricao'] == 'LOCAÇÃO OU FRETAMENTO DE AERONAVES'\n",
    "# filtro_passagens = df['txtdescricao'] == 'PASSAGENS TERRESTRES, MARÍTIMAS OU FLUVIAIS'\n",
    "# filtro_assinatura_publicacoes = df['txtdescricao'] == 'ASSINATURA DE PUBLICAÇÕES'\n",
    "# filtro_locacao_veiculos_ou_embarcacoes = df['txtdescricao'] == 'LOCAÇÃO DE VEÍCULOS AUTOMOTORES OU FRETAMENTO DE EMBARCAÇÕES'\n",
    "# filtro_locomocao = df['txtdescricao'] == 'LOCOMOÇÃO, ALIMENTAÇÃO E  HOSPEDAGEM'\n",
    "# filtro_escritorio = df['txtdescricao'] == 'AQUISIÇÃO DE MATERIAL DE ESCRITÓRIO.'\n",
    "# filtro_aquisicao_ou_loc_software = df['txtdescricao'] == 'AQUISIÇÃO OU LOC. DE SOFTWARE; SERV. POSTAIS; ASS.'\n",
    "\n",
    "\n"
   ]
  },
  {
   "cell_type": "code",
   "execution_count": null,
   "metadata": {},
   "outputs": [],
   "source": [
    "df_alimentacao = df[filtro_alimentacao]\n",
    "df_divulgacao = df[filtro_divulgacao]\n",
    "df_manutencao_escritorio  = df[filtro_manutencao_escritorio]\n",
    "df_passagens_aereas = df[filtro_passagens_aereas]"
   ]
  },
  {
   "cell_type": "code",
   "execution_count": null,
   "metadata": {},
   "outputs": [],
   "source": [
    "df_divulgacao.head()"
   ]
  },
  {
   "cell_type": "code",
   "execution_count": null,
   "metadata": {},
   "outputs": [],
   "source": [
    "df_alimentacao.head()"
   ]
  },
  {
   "cell_type": "code",
   "execution_count": null,
   "metadata": {},
   "outputs": [],
   "source": [
    "locale.setlocale(locale.LC_ALL, 'pt_BR.UTF-8')"
   ]
  },
  {
   "cell_type": "code",
   "execution_count": null,
   "metadata": {},
   "outputs": [],
   "source": [
    "df_alimentacao.isna()['vlrdocumento'].sum()\n",
    "df_divulgacao.isna()['vlrdocumento'].sum()\n",
    "df_manutencao_escritorio.isna()['vlrdocumento'].sum()\n",
    "df_passagens_aereas.isna()['vlrdocumento'].sum()"
   ]
  },
  {
   "cell_type": "code",
   "execution_count": null,
   "metadata": {},
   "outputs": [],
   "source": [
    "df_alimentacao.dropna(subset=['vlrdocumento'], inplace=True)\n",
    "df_divulgacao.dropna(subset=['vlrdocumento'], inplace=True)\n",
    "df_manutencao_escritorio.dropna(subset=['vlrdocumento'], inplace=True)\n",
    "df_passagens_aereas.dropna(subset=['vlrdocumento'], inplace=True)"
   ]
  },
  {
   "attachments": {},
   "cell_type": "markdown",
   "metadata": {},
   "source": [
    "# Criando Gráficos"
   ]
  },
  {
   "cell_type": "code",
   "execution_count": null,
   "metadata": {},
   "outputs": [],
   "source": [
    "# Função para filtrar partidos indesejados\n",
    "def filtrar_partidos(df, partidos_indesejados):\n",
    "    return df[~df['txnomeparlamentar'].isin(partidos_indesejados)]\n",
    "\n",
    "# Função para calcular os gastos por parlamentar e fornecedor\n",
    "def calcular_gastos_por_parlamentar(df, coluna_valor):\n",
    "    return df.groupby('txnomeparlamentar')[coluna_valor].sum()\n",
    "\n",
    "def calcular_gastos_por_fornecedor(df, coluna_valor):\n",
    "    return df.groupby('txtfornecedor')[coluna_valor].sum()\n",
    "\n",
    "# Lista de partidos indesejados\n",
    "excluir_partidos = ['LIDERANÇA DO PSDB', 'LIDERANÇA DO PT', 'LIDMIN', 'NOVO', 'PDT', 'PODE', 'PP', 'PROS', 'PSD', 'PTB', 'SDD']\n",
    "\n",
    "\n",
    "\n",
    "# Filtrar os dataframes de acordo com os partidos indesejados\n",
    "df_alimentacao_filtrado = filtrar_partidos(df_alimentacao, excluir_partidos)\n",
    "df_divulgacao_filtrado = filtrar_partidos(df_divulgacao, excluir_partidos)\n",
    "df_manutencao_escritorio_filtrado = filtrar_partidos(df_manutencao_escritorio, excluir_partidos)\n",
    "df_passagens_aereas_filtrado = filtrar_partidos(df_passagens_aereas, excluir_partidos)\n",
    "\n",
    "# Calcular os gastos por parlamentar\n",
    "gastos_por_parlamentar = calcular_gastos_por_parlamentar(df_alimentacao_filtrado, 'vlrdocumento')\n",
    "gastos_por_parlamentar_divulgacao = calcular_gastos_por_parlamentar(df_divulgacao_filtrado, 'vlrdocumento')\n",
    "gastos_por_parlamentar_manutencao_escritorio = calcular_gastos_por_parlamentar(df_manutencao_escritorio_filtrado, 'vlrdocumento')\n",
    "gastos_por_parlamentar_passagens_aereas = calcular_gastos_por_parlamentar(df_passagens_aereas_filtrado, 'vlrdocumento')\n",
    "\n",
    "# Calcular os gastos por fornecedor\n",
    "pagamentos_por_fornecedor = calcular_gastos_por_fornecedor(df_alimentacao_filtrado, 'vlrdocumento')\n",
    "pagamentos_por_fornecedor_divulgacao = calcular_gastos_por_fornecedor(df_divulgacao_filtrado, 'vlrdocumento')\n",
    "pagamentos_por_fornecedor_manutencao_escritorio = calcular_gastos_por_fornecedor(df_manutencao_escritorio_filtrado, 'vlrdocumento')\n",
    "pagamentos_por_fornecedor_passagens_aereas = calcular_gastos_por_fornecedor(df_passagens_aereas_filtrado, 'vlrdocumento')"
   ]
  },
  {
   "cell_type": "code",
   "execution_count": null,
   "metadata": {},
   "outputs": [],
   "source": [
    "top_10_gastos = gastos_por_parlamentar.nlargest(10)\n",
    "top_10_gastos_divulgacao = gastos_por_parlamentar_divulgacao.nlargest(10)\n",
    "top_10_gastos_manutencao_escritorio = gastos_por_parlamentar_manutencao_escritorio.nlargest(10)\n",
    "top_10_gastos_passagens_aereas = gastos_por_parlamentar_passagens_aereas.nlargest(10)"
   ]
  },
  {
   "attachments": {},
   "cell_type": "markdown",
   "metadata": {},
   "source": [
    "# Top 10 deputados com maiores gastos com divulgação, alimentação, manutenção de escritório e passagens aéreas"
   ]
  },
  {
   "cell_type": "code",
   "execution_count": null,
   "metadata": {},
   "outputs": [],
   "source": [
    "def plot_top_10_gastos(data, title, category):\n",
    "    plt.figure(figsize=(16, 8))\n",
    "    colors = plt.cm.tab20.colors[:10]\n",
    "    ax = plt.bar(data.index, data.values, color=colors)\n",
    "    plt.ylabel('Total Gasto (R$)')\n",
    "    plt.title(title)\n",
    "\n",
    "    plt.gca().yaxis.set_major_formatter(locale.currency)\n",
    "\n",
    "    plt.legend(ax, data.index, title='Parlamentares', bbox_to_anchor=(1.05, 1), loc='upper left')\n",
    "\n",
    "    for bar in ax:\n",
    "        height = bar.get_height()\n",
    "        plt.annotate(locale.currency(height), xy=(bar.get_x() + bar.get_width() / 2, height),\n",
    "                     xytext=(0, 3), textcoords=\"offset points\", ha='center', va='bottom', rotation=40)\n",
    "\n",
    "    plt.xticks([])\n",
    "\n",
    "    plt.tight_layout()\n",
    "    plt.show()\n",
    "\n",
    "# Dados para os gráficos\n",
    "plot_top_10_gastos(top_10_gastos_divulgacao, 'Top 10 Parlamentares com maior gasto em divulgação', 'divulgação')\n",
    "plot_top_10_gastos(top_10_gastos, 'Top 10 \"DEPUTADOS\" com maior gasto em alimentação', 'alimentação')\n",
    "plot_top_10_gastos(top_10_gastos_manutencao_escritorio, 'Top 10 \"DEPUTADOS\" com maior gasto em gastos com manutenção de escritório', 'manutenção de escritório')\n",
    "plot_top_10_gastos(top_10_gastos_passagens_aereas, 'Top 10 \"DEPUTADOS\" com maior gasto em passagens aéreas', 'passagens aéreas')"
   ]
  },
  {
   "attachments": {},
   "cell_type": "markdown",
   "metadata": {},
   "source": [
    "\n",
    "# Top 10 fornecedores que mais receberam pagamentos de divulgação, alimentação, manutenção de escritório e passagens aéreas"
   ]
  },
  {
   "cell_type": "code",
   "execution_count": null,
   "metadata": {},
   "outputs": [],
   "source": [
    "top_10_pagamentos = pagamentos_por_fornecedor.nlargest(10)\n",
    "top_10_pagamentos_fornecedor_divulgacao = pagamentos_por_fornecedor_divulgacao.nlargest(10)\n",
    "top_10_pagamentos_por_fornecedor_manutencao_escritorio = pagamentos_por_fornecedor_manutencao_escritorio.nlargest(10)\n",
    "top_10_pagamentos_por_fornecedor_passagens_aereas = pagamentos_por_fornecedor_passagens_aereas.nlargest(10)"
   ]
  },
  {
   "cell_type": "code",
   "execution_count": null,
   "metadata": {},
   "outputs": [],
   "source": [
    "def plot_top_10_pagamentos(data, title, row, col):\n",
    "    colors = plt.cm.tab20.colors[:10]\n",
    "    font_size = 9\n",
    "\n",
    "    ax = axs[row, col].barh(data.index, data.values, color=colors)\n",
    "    axs[row, col].set_xlabel('Total Recebido (R$)', fontsize=font_size)\n",
    "    axs[row, col].set_title(title)\n",
    "    axs[row, col].tick_params(axis='both', which='major', labelsize=font_size)\n",
    "    axs[row, col].set_xticks([])  # Remover eixo X\n",
    "\n",
    "    for index, value in enumerate(ax.patches):\n",
    "        axs[row, col].text(value.get_width(), value.get_y() + value.get_height() / 2, locale.currency(value.get_width()),\n",
    "                           ha='left', va='center', fontsize=font_size)\n",
    "\n",
    "# Definir a figura geral e criar subplots\n",
    "fig, axs = plt.subplots(2, 2, figsize=(16, 16))\n",
    "fig.subplots_adjust(wspace=10, hspace=0.5)\n",
    "\n",
    "# Plotar os gráficos usando a função criada\n",
    "plot_top_10_pagamentos(top_10_pagamentos, 'Top 10 Fornecedores que mais receberam pagamentos por alimentação', 0, 0)\n",
    "plot_top_10_pagamentos(top_10_pagamentos_fornecedor_divulgacao, 'Top 10 Fornecedores que mais receberam pagamentos por divulgação', 0, 1)\n",
    "plot_top_10_pagamentos(top_10_pagamentos_por_fornecedor_manutencao_escritorio, 'Top 10 Fornecedores que mais receberam pagamentos por manutenção em escritório', 1, 0)\n",
    "plot_top_10_pagamentos(top_10_pagamentos_por_fornecedor_passagens_aereas, 'Top 10 Fornecedores que mais receberam pagamentos por passagens aéreas', 1, 1)\n",
    "\n",
    "# Ajustar o layout para evitar cortes de rótulos\n",
    "plt.tight_layout()\n",
    "\n",
    "# Mostrar os gráficos lado a lado\n",
    "plt.show()"
   ]
  },
  {
   "attachments": {},
   "cell_type": "markdown",
   "metadata": {},
   "source": [
    "# Selecionando GPU"
   ]
  },
  {
   "cell_type": "code",
   "execution_count": null,
   "metadata": {},
   "outputs": [],
   "source": [
    "device = torch.device(\"cuda\" if torch.cuda.is_available() else \"cpu\")"
   ]
  },
  {
   "cell_type": "code",
   "execution_count": null,
   "metadata": {},
   "outputs": [],
   "source": [
    "colunas_relevantes = ['vlrdocumento']\n",
    "df_alimentacao = df_alimentacao[colunas_relevantes]\n",
    "\n",
    "print(df_alimentacao)"
   ]
  },
  {
   "attachments": {},
   "cell_type": "markdown",
   "metadata": {},
   "source": [
    "# Normalização dos dados"
   ]
  },
  {
   "cell_type": "code",
   "execution_count": null,
   "metadata": {},
   "outputs": [],
   "source": [
    "scaler_minMax = MinMaxScaler()\n",
    "dados_normalizados = scaler_minMax.fit_transform(df_alimentacao)"
   ]
  },
  {
   "cell_type": "code",
   "execution_count": null,
   "metadata": {},
   "outputs": [],
   "source": [
    "dados_normalizados"
   ]
  },
  {
   "attachments": {},
   "cell_type": "markdown",
   "metadata": {},
   "source": [
    "# Divisão de treino e teste"
   ]
  },
  {
   "cell_type": "code",
   "execution_count": null,
   "metadata": {},
   "outputs": [],
   "source": [
    "train_data, test_data = train_test_split(dados_normalizados, test_size=0.2, random_state=42)"
   ]
  },
  {
   "attachments": {},
   "cell_type": "markdown",
   "metadata": {},
   "source": [
    "# Convertendo o DataFrame para um tensor PyTorch"
   ]
  },
  {
   "cell_type": "code",
   "execution_count": null,
   "metadata": {},
   "outputs": [],
   "source": [
    "tensor_train_data = torch.tensor(train_data, dtype=torch.float32).to(device, non_blocking=True)\n",
    "tensor_test_data = torch.tensor(test_data, dtype=torch.float32).to(device, non_blocking=True)"
   ]
  },
  {
   "attachments": {},
   "cell_type": "markdown",
   "metadata": {},
   "source": [
    "# Criando DataLoader"
   ]
  },
  {
   "cell_type": "code",
   "execution_count": null,
   "metadata": {},
   "outputs": [],
   "source": [
    "batch_size = 256\n",
    "train_data_loader = DataLoader(TensorDataset(tensor_train_data), batch_size=batch_size, shuffle=True)\n",
    "test_data_loader = DataLoader(TensorDataset(tensor_test_data), batch_size=batch_size)"
   ]
  },
  {
   "attachments": {},
   "cell_type": "markdown",
   "metadata": {},
   "source": [
    "# Rede neural"
   ]
  },
  {
   "cell_type": "code",
   "execution_count": null,
   "metadata": {},
   "outputs": [],
   "source": [
    "class Autoencoder(nn.Module):\n",
    "    def __init__(self, input_size, latent_size):\n",
    "        super(Autoencoder, self).__init__()\n",
    "        self.encoder = nn.Sequential(\n",
    "            nn.Linear(input_size, 32),\n",
    "            nn.ReLU(),\n",
    "            nn.Linear(32, latent_size),\n",
    "        )\n",
    "        self.decoder = nn.Sequential(\n",
    "            nn.Linear(latent_size, 32),\n",
    "            nn.ReLU(),\n",
    "            nn.Linear(32, input_size),\n",
    "        )\n",
    "    \n",
    "    def forward(self, x):\n",
    "        x = self.encoder(x)\n",
    "        x = self.decoder(x)\n",
    "        return x"
   ]
  },
  {
   "attachments": {},
   "cell_type": "markdown",
   "metadata": {},
   "source": [
    "# Configuração do modelo e treinamento na GPU"
   ]
  },
  {
   "cell_type": "code",
   "execution_count": null,
   "metadata": {},
   "outputs": [],
   "source": [
    "input_size = len(colunas_relevantes)\n",
    "latent_size = 2\n",
    "model = Autoencoder(input_size, latent_size).to(device)"
   ]
  },
  {
   "attachments": {},
   "cell_type": "markdown",
   "metadata": {},
   "source": [
    "# Função de perda e otimizador"
   ]
  },
  {
   "cell_type": "code",
   "execution_count": null,
   "metadata": {},
   "outputs": [],
   "source": [
    "criterion = nn.MSELoss()\n",
    "optimizer = optim.Adam(model.parameters(), lr=0.0001)"
   ]
  },
  {
   "attachments": {},
   "cell_type": "markdown",
   "metadata": {},
   "source": [
    "# Treinamento"
   ]
  },
  {
   "cell_type": "code",
   "execution_count": null,
   "metadata": {},
   "outputs": [],
   "source": [
    "num_epochs = 5\n",
    "\n",
    "for epoch in range(num_epochs):\n",
    "    total_loss = 0\n",
    "    for batch in train_data_loader:\n",
    "        input_data = batch[0].to(device)\n",
    "        optimizer.zero_grad()\n",
    "        reconstructions = model(input_data)\n",
    "        loss = criterion(reconstructions, input_data)\n",
    "        loss.backward()\n",
    "        optimizer.step()\n",
    "        total_loss += loss.item()\n",
    "\n",
    "    print(f\"Epoch {epoch+1}/{num_epochs}, Loss: {total_loss / len(train_data_loader)}\")"
   ]
  },
  {
   "attachments": {},
   "cell_type": "markdown",
   "metadata": {},
   "source": [
    "# Gŕafico de anômalias com gastos em alimentos\n"
   ]
  },
  {
   "cell_type": "code",
   "execution_count": null,
   "metadata": {},
   "outputs": [],
   "source": [
    "model.eval()\n",
    "with torch.no_grad():\n",
    "    all_reconstructions = []\n",
    "    all_losses = []\n",
    "    for batch in test_data_loader:\n",
    "        input_data = batch[0].to(device)\n",
    "        reconstructions = model(input_data)\n",
    "        loss = criterion(reconstructions, input_data)\n",
    "        all_reconstructions.append(reconstructions.cpu().numpy())\n",
    "        all_losses.append(loss.item())\n",
    "\n",
    "\n",
    "all_reconstructions = np.concatenate(all_reconstructions)\n",
    "all_losses = np.array(all_losses)\n",
    "mean_loss = np.mean(all_losses)\n",
    "std_loss = np.std(all_losses)\n",
    "\n",
    "threshold = mean_loss + 2 * std_loss\n",
    "\n",
    "\n",
    "anomalias = all_losses > threshold\n",
    "\n",
    "plt.figure(figsize=(16, 8))\n",
    "plt.scatter(range(len(all_losses)), all_losses, c=anomalias, cmap='coolwarm', marker='o', s=50, alpha=0.8)\n",
    "plt.axhline(threshold, color='red', linestyle='dashed', label='Limiar de Anomalia')\n",
    "plt.xlabel('Gastos')\n",
    "plt.ylabel('Erro de Reconstrução')\n",
    "plt.title('Detecção de Anomalias com gastos com alimentação dos Deputados')\n",
    "plt.legend()\n",
    "plt.colorbar()\n",
    "plt.show()"
   ]
  },
  {
   "cell_type": "code",
   "execution_count": null,
   "metadata": {},
   "outputs": [],
   "source": []
  }
 ],
 "metadata": {
  "kernelspec": {
   "display_name": "venv",
   "language": "python",
   "name": "python3"
  },
  "language_info": {
   "codemirror_mode": {
    "name": "ipython",
    "version": 3
   },
   "file_extension": ".py",
   "mimetype": "text/x-python",
   "name": "python",
   "nbconvert_exporter": "python",
   "pygments_lexer": "ipython3",
   "version": "3.11.0"
  },
  "orig_nbformat": 4
 },
 "nbformat": 4,
 "nbformat_minor": 2
}
